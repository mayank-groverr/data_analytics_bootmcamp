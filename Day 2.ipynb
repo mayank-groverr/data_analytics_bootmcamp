{
 "cells": [
  {
   "cell_type": "code",
   "execution_count": 1,
   "id": "82afea06-869d-4ea9-9847-18c3acb3ae77",
   "metadata": {},
   "outputs": [
    {
     "name": "stdout",
     "output_type": "stream",
     "text": [
      "<class 'float'>\n"
     ]
    }
   ],
   "source": [
    "x=10\n",
    "b=float(x)\n",
    "print(type(b))"
   ]
  },
  {
   "cell_type": "code",
   "execution_count": 6,
   "id": "c8e6440c-022e-48bc-a3a7-7cd8fa08b3d1",
   "metadata": {},
   "outputs": [
    {
     "name": "stdout",
     "output_type": "stream",
     "text": [
      "Bill Calculator\n"
     ]
    },
    {
     "name": "stdin",
     "output_type": "stream",
     "text": [
      "Enter product name : Doodh\n",
      "No. of items : 10\n",
      "Price of items : 10\n"
     ]
    },
    {
     "name": "stdout",
     "output_type": "stream",
     "text": [
      "Bill\n",
      "Doodh : 100\n"
     ]
    }
   ],
   "source": [
    "print(\"Bill Calculator\")\n",
    "n=str(input(\"Enter product name :\"))\n",
    "no=int(input(\"No. of items :\"))\n",
    "p=int(input(\"Price of items :\"))\n",
    "c=(no*p)\n",
    "print(\"Bill\")\n",
    "print(n,\":\",c)"
   ]
  },
  {
   "cell_type": "code",
   "execution_count": 9,
   "id": "8c7b8570-5d13-4f3e-b184-4dd56760293e",
   "metadata": {},
   "outputs": [
    {
     "name": "stdin",
     "output_type": "stream",
     "text": [
      "Enter No. 10\n"
     ]
    },
    {
     "name": "stdout",
     "output_type": "stream",
     "text": [
      "Positive\n"
     ]
    }
   ],
   "source": [
    "a=int(input(\"Enter No.\"))\n",
    "if a<0:\n",
    "    print(\"Negative\")\n",
    "else:\n",
    "    print(\"Positive\")   "
   ]
  },
  {
   "cell_type": "code",
   "execution_count": 10,
   "id": "93e72ede-446d-4fa0-a457-798e450729c8",
   "metadata": {},
   "outputs": [
    {
     "name": "stdin",
     "output_type": "stream",
     "text": [
      "Enter Age 22\n"
     ]
    },
    {
     "name": "stdout",
     "output_type": "stream",
     "text": [
      "Eligible\n"
     ]
    }
   ],
   "source": [
    "a=int(input(\"Enter Age\"))\n",
    "if a<18:\n",
    "    print(\"Ineligible\")\n",
    "else:\n",
    "    print(\"Eligible\")   "
   ]
  },
  {
   "cell_type": "code",
   "execution_count": 11,
   "id": "3bf7cbd4-da60-4c98-b887-3546f77f8d96",
   "metadata": {},
   "outputs": [
    {
     "name": "stdin",
     "output_type": "stream",
     "text": [
      "Enter No. 5\n"
     ]
    },
    {
     "name": "stdout",
     "output_type": "stream",
     "text": [
      "Odd\n"
     ]
    }
   ],
   "source": [
    "a=int(input(\"Enter No.\"))\n",
    "if a%2==0:\n",
    "    print(\"Even\")\n",
    "else:\n",
    "    print(\"Odd\")   "
   ]
  },
  {
   "cell_type": "code",
   "execution_count": 13,
   "id": "20b34a2c-374a-462f-9b8f-18e696ae4705",
   "metadata": {},
   "outputs": [
    {
     "name": "stdin",
     "output_type": "stream",
     "text": [
      "Enter String hellew\n"
     ]
    },
    {
     "name": "stdout",
     "output_type": "stream",
     "text": [
      "Length greater than 5\n"
     ]
    }
   ],
   "source": [
    "a=str(input(\"Enter String\"))\n",
    "if len(a)>5:\n",
    "    print(\"Length greater than 5\")"
   ]
  },
  {
   "cell_type": "code",
   "execution_count": 12,
   "id": "9eb24870-77aa-4db9-88b2-3f6d1777249d",
   "metadata": {},
   "outputs": [
    {
     "name": "stdin",
     "output_type": "stream",
     "text": [
      "Enter Marks 555\n"
     ]
    },
    {
     "name": "stdout",
     "output_type": "stream",
     "text": [
      "Pass\n"
     ]
    }
   ],
   "source": [
    "a=int(input(\"Enter Marks\"))\n",
    "if a>=40:\n",
    "    print(\"Pass\")\n",
    "else:\n",
    "    print(\"Fail\")   "
   ]
  },
  {
   "cell_type": "code",
   "execution_count": 23,
   "id": "6ebc21ad-c96c-4d6f-9350-b8abbc8cb546",
   "metadata": {},
   "outputs": [
    {
     "name": "stdin",
     "output_type": "stream",
     "text": [
      "Enter month name may\n"
     ]
    },
    {
     "name": "stdout",
     "output_type": "stream",
     "text": [
      "summer\n"
     ]
    }
   ],
   "source": [
    "name = input(\"Enter month name\").lower()\n",
    "\n",
    "if name in (\"november\", \"december\", \"january\"):\n",
    "    print(\"winter\")\n",
    "elif name in (\"february\", \"march\", \"april\"):\n",
    "    print(\"spring\")\n",
    "elif name in (\"may\", \"june\", \"july\"):\n",
    "    print(\"summer\")\n",
    "else:\n",
    "    print(\"autumn\")"
   ]
  },
  {
   "cell_type": "code",
   "execution_count": 30,
   "id": "773d951d-ea00-4d03-889e-ab27c0b4f04f",
   "metadata": {},
   "outputs": [
    {
     "name": "stdin",
     "output_type": "stream",
     "text": [
      "Vehicle type: petrol or diesel diesel\n",
      "Year of Manufacturing 2022\n",
      "Current Year 2036\n"
     ]
    },
    {
     "name": "stdout",
     "output_type": "stream",
     "text": [
      "End Of Life in year 2032\n",
      "Remaining Life 14\n"
     ]
    }
   ],
   "source": [
    "typ=str(input(\"Vehicle type: petrol or diesel\")).lower()\n",
    "dp=int(input(\"Year of Manufacturing\"))\n",
    "cd=int(input(\"Current Year\"))\n",
    "t=(cd-dp)\n",
    "if t<0:\n",
    "    print(\"Life Ended\")\n",
    "if typ==\"petrol\":\n",
    "    print(\"End Of Life in year\",dp+15)\n",
    "    print(\"Remaining Life\", t)\n",
    "else:\n",
    "    print(\"End Of Life in year\",dp+10)\n",
    "    print(\"Remaining Life\", t)"
   ]
  },
  {
   "cell_type": "code",
   "execution_count": 31,
   "id": "46336a61-439a-43c4-a59e-d4b706b890ab",
   "metadata": {},
   "outputs": [
    {
     "name": "stdin",
     "output_type": "stream",
     "text": [
      "Enter No. 5\n"
     ]
    },
    {
     "name": "stdout",
     "output_type": "stream",
     "text": [
      "Positive\n"
     ]
    }
   ],
   "source": [
    "a=int(input(\"Enter No.\"))\n",
    "if a<0:\n",
    "    print(\"Negative\")\n",
    "elif a>0:\n",
    "    print(\"Positive\")  \n",
    "else:\n",
    "    print(\"0\")"
   ]
  },
  {
   "cell_type": "code",
   "execution_count": 32,
   "id": "f525eab2-19e4-452d-adf1-33aff6041d61",
   "metadata": {},
   "outputs": [
    {
     "name": "stdin",
     "output_type": "stream",
     "text": [
      "Enter Age 15\n"
     ]
    },
    {
     "name": "stdout",
     "output_type": "stream",
     "text": [
      "Teen\n"
     ]
    }
   ],
   "source": [
    "a=int(input(\"Enter Age\"))\n",
    "if a<13:\n",
    "    print(\"Child\")\n",
    "elif a<18:\n",
    "    print(\"Teen\")\n",
    "else:\n",
    "    print(\"Adult\")"
   ]
  },
  {
   "cell_type": "code",
   "execution_count": 34,
   "id": "d64cfc82-d5b5-4111-b3a7-4804aabab621",
   "metadata": {},
   "outputs": [
    {
     "name": "stdin",
     "output_type": "stream",
     "text": [
      "Enter No. 2\n"
     ]
    },
    {
     "name": "stdout",
     "output_type": "stream",
     "text": [
      "Even but Less than 10\n"
     ]
    }
   ],
   "source": [
    "a=int(input(\"Enter No.\"))\n",
    "if a%2==0:\n",
    "    if a>10:\n",
    "        print(\"Even and Greater than 10\")\n",
    "    else:\n",
    "        print(\"Even but Less than 10\")\n",
    "else:\n",
    "    print(\"Odd\")   "
   ]
  },
  {
   "cell_type": "code",
   "execution_count": 35,
   "id": "711b3f56-1ec3-4a8b-9355-d76079161a16",
   "metadata": {},
   "outputs": [
    {
     "name": "stdin",
     "output_type": "stream",
     "text": [
      "Enter Marks 15\n"
     ]
    },
    {
     "name": "stdout",
     "output_type": "stream",
     "text": [
      "Fail\n"
     ]
    }
   ],
   "source": [
    "a=int(input(\"Enter Marks\"))\n",
    "if a>=90:\n",
    "    print(\"A\")\n",
    "elif a>=75:\n",
    "    print(\"B\")\n",
    "elif a>=60:\n",
    "    print(\"C\")\n",
    "else:\n",
    "    print(\"Fail\")"
   ]
  },
  {
   "cell_type": "code",
   "execution_count": 38,
   "id": "1c505a23-6ead-470f-bf47-0bb34133efac",
   "metadata": {},
   "outputs": [
    {
     "name": "stdin",
     "output_type": "stream",
     "text": [
      "Enter Num1 12\n",
      "Enter Num2 25\n",
      "Enter Num3 52\n"
     ]
    },
    {
     "name": "stdout",
     "output_type": "stream",
     "text": [
      "C is Greatest\n"
     ]
    }
   ],
   "source": [
    "a=int(input(\"Enter Num1\"))\n",
    "b=int(input(\"Enter Num2\"))\n",
    "c=int(input(\"Enter Num3\"))\n",
    "\n",
    "if a>=b:\n",
    "    if a>=c:\n",
    "        print(\"A is Greatest\")\n",
    "if b>=c:\n",
    "    if b>=a:\n",
    "        print(\"B is Greatest\")\n",
    "else:\n",
    "    print(\"C is Greatest\")"
   ]
  },
  {
   "cell_type": "code",
   "execution_count": 41,
   "id": "e569efb3-1004-419e-bf49-68d73e118d04",
   "metadata": {},
   "outputs": [
    {
     "name": "stdin",
     "output_type": "stream",
     "text": [
      "Enter Num1 24\n",
      "Enter Num2 58\n",
      "Enter Num3 65\n"
     ]
    }
   ],
   "source": [
    "a=int(input(\"Enter Num1\"))\n",
    "b=int(input(\"Enter Num2\"))\n",
    "c=int(input(\"Enter Num3\"))\n",
    "\n",
    "if a>=b:\n",
    "    if a>=c:\n",
    "        print(\"A is Greatest\")\n",
    "    elif b>=c:\n",
    "        print(\"B is Greatest\")\n",
    "else:\n",
    "    print(\"C is Greatest\")"
   ]
  },
  {
   "cell_type": "code",
   "execution_count": null,
   "id": "b056af80-8769-4f55-baf5-68f4b7229e81",
   "metadata": {},
   "outputs": [],
   "source": []
  },
  {
   "cell_type": "code",
   "execution_count": null,
   "id": "fd46274a-529a-4561-82ea-df5697dc2238",
   "metadata": {},
   "outputs": [],
   "source": []
  }
 ],
 "metadata": {
  "kernelspec": {
   "display_name": "Python [conda env:base] *",
   "language": "python",
   "name": "conda-base-py"
  },
  "language_info": {
   "codemirror_mode": {
    "name": "ipython",
    "version": 3
   },
   "file_extension": ".py",
   "mimetype": "text/x-python",
   "name": "python",
   "nbconvert_exporter": "python",
   "pygments_lexer": "ipython3",
   "version": "3.13.5"
  }
 },
 "nbformat": 4,
 "nbformat_minor": 5
}
